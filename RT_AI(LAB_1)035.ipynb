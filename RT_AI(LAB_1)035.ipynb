{
  "cells": [
    {
      "cell_type": "code",
      "execution_count": null,
      "metadata": {
        "colab": {
          "base_uri": "https://localhost:8080/"
        },
        "id": "W7sBH2afjbaH",
        "outputId": "bf8576e5-6333-4bfd-d7a0-eb9b92187f06"
      },
      "outputs": [
        {
          "name": "stdout",
          "output_type": "stream",
          "text": [
            "TensorFlow: 2.19.0\n"
          ]
        }
      ],
      "source": [
        "# Setup\n",
        "import numpy as np\n",
        "import matplotlib.pyplot as plt\n",
        "import tensorflow as tf\n",
        "from tensorflow import keras\n",
        "\n",
        "#Reproducibility\n",
        "tf.random.set_seed(42)\n",
        "np.random.seed(42)\n",
        "\n",
        "#Class label names for Fashion-MNIST\n",
        "class_names = [\n",
        "    \"T-shirt/top\", \"Trouser\", \"Pullover\", \"Dress\", \"Coat\",\n",
        "    \"Sandal\", \"Shirt\", \"Sneaker\", \"Bag\", \"Ankle boot\"\n",
        "]\n",
        "\n",
        "print(\"TensorFlow:\", tf.__version__)\n"
      ]
    },
    {
      "cell_type": "code",
      "execution_count": null,
      "metadata": {
        "colab": {
          "base_uri": "https://localhost:8080/"
        },
        "id": "gih3vaKKrT8L",
        "outputId": "abb04043-3489-45ab-d9bb-be970e663eaf"
      },
      "outputs": [
        {
          "name": "stdout",
          "output_type": "stream",
          "text": [
            "Downloading data from https://storage.googleapis.com/tensorflow/tf-keras-datasets/train-labels-idx1-ubyte.gz\n",
            "\u001b[1m29515/29515\u001b[0m \u001b[32m━━━━━━━━━━━━━━━━━━━━\u001b[0m\u001b[37m\u001b[0m \u001b[1m0s\u001b[0m 0us/step\n",
            "Downloading data from https://storage.googleapis.com/tensorflow/tf-keras-datasets/train-images-idx3-ubyte.gz\n",
            "\u001b[1m26421880/26421880\u001b[0m \u001b[32m━━━━━━━━━━━━━━━━━━━━\u001b[0m\u001b[37m\u001b[0m \u001b[1m1s\u001b[0m 0us/step\n",
            "Downloading data from https://storage.googleapis.com/tensorflow/tf-keras-datasets/t10k-labels-idx1-ubyte.gz\n",
            "\u001b[1m5148/5148\u001b[0m \u001b[32m━━━━━━━━━━━━━━━━━━━━\u001b[0m\u001b[37m\u001b[0m \u001b[1m0s\u001b[0m 0us/step\n",
            "Downloading data from https://storage.googleapis.com/tensorflow/tf-keras-datasets/t10k-images-idx3-ubyte.gz\n",
            "\u001b[1m4422102/4422102\u001b[0m \u001b[32m━━━━━━━━━━━━━━━━━━━━\u001b[0m\u001b[37m\u001b[0m \u001b[1m1s\u001b[0m 0us/step\n"
          ]
        },
        {
          "data": {
            "text/plain": [
              "((60000, 28, 28), (60000,), (10000, 28, 28), (10000,))"
            ]
          },
          "execution_count": 2,
          "metadata": {},
          "output_type": "execute_result"
        }
      ],
      "source": [
        "# Load Fashion-MNIST\n",
        "(X_train, y_train), (X_test, y_test) = keras.datasets.fashion_mnist.load_data()\n",
        "\n",
        "X_train.shape, y_train.shape, X_test.shape, y_test.shape\n"
      ]
    },
    {
      "cell_type": "code",
      "execution_count": null,
      "metadata": {
        "colab": {
          "base_uri": "https://localhost:8080/"
        },
        "id": "wr6f6VR5rdPv",
        "outputId": "dbdb5b9e-92d7-4166-b936-e74d73ed52fb"
      },
      "outputs": [
        {
          "name": "stdout",
          "output_type": "stream",
          "text": [
            "Pixel min/max before scaling: 0 255\n",
            " 0 (T-shirt/top ): 6000\n",
            " 1 (Trouser     ): 6000\n",
            " 2 (Pullover    ): 6000\n",
            " 3 (Dress       ): 6000\n",
            " 4 (Coat        ): 6000\n",
            " 5 (Sandal      ): 6000\n",
            " 6 (Shirt       ): 6000\n",
            " 7 (Sneaker     ): 6000\n",
            " 8 (Bag         ): 6000\n",
            " 9 (Ankle boot  ): 6000\n"
          ]
        }
      ],
      "source": [
        "# Inspect pixel ranges and label distribution (quick)\n",
        "print(\"Pixel min/max before scaling:\", X_train.min(), X_train.max())\n",
        "unique, counts = np.unique(y_train, return_counts=True)\n",
        "for u, c in zip(unique, counts):\n",
        "    print(f\"{u:2d} ({class_names[u]:12s}): {c}\")\n"
      ]
    },
    {
      "cell_type": "code",
      "execution_count": null,
      "metadata": {
        "colab": {
          "base_uri": "https://localhost:8080/",
          "height": 607
        },
        "id": "UO9XoKAgroyg",
        "outputId": "9c11a83a-165f-46ae-e41c-bfc21a12c735"
      },
      "outputs": [
        {
          "data": {
            "image/png": "[encoded data removed]",
            "text/plain": [
              "<Figure size 600x600 with 9 Axes>"
            ]
          },
          "metadata": {},
          "output_type": "display_data"
        }
      ],
      "source": [
        "# Visualize a 3x3 grid of samples\n",
        "plt.figure(figsize=(6,6))\n",
        "for i in range(9):\n",
        "    plt.subplot(3,3,i+1)\n",
        "    plt.imshow(X_train[i], cmap='binary')\n",
        "    plt.title(class_names[y_train[i]], fontsize=9)\n",
        "    plt.axis('off')\n",
        "plt.tight_layout()\n",
        "plt.show()\n"
      ]
    },
    {
      "cell_type": "code",
      "execution_count": null,
      "metadata": {
        "colab": {
          "base_uri": "https://localhost:8080/"
        },
        "id": "nBjz4OncrzJ1",
        "outputId": "382f0868-158b-4111-956d-a56827d87e7e"
      },
      "outputs": [
        {
          "data": {
            "text/plain": [
              "((54000, 28, 28), (6000, 28, 28), (10000, 28, 28))"
            ]
          },
          "execution_count": 5,
          "metadata": {},
          "output_type": "execute_result"
        }
      ],
      "source": [
        "# Scale pixels to [0,1]\n",
        "X_train = X_train.astype(\"float32\") / 255.0\n",
        "X_test  = X_test.astype(\"float32\")  / 255.0\n",
        "\n",
        "# Create a validation split from the end of training set\n",
        "VAL = 6000\n",
        "X_val, y_val = X_train[-VAL:], y_train[-VAL:]\n",
        "X_train, y_train = X_train[:-VAL], y_train[:-VAL]\n",
        "\n",
        "X_train.shape, X_val.shape, X_test.shape\n"
      ]
    },
    {
      "cell_type": "code",
      "execution_count": null,
      "metadata": {
        "colab": {
          "base_uri": "https://localhost:8080/"
        },
        "id": "eRAAApnsr-VF",
        "outputId": "9f79d3e1-c9d2-4b0f-8f01-7cfe2c9c0352"
      },
      "outputs": [
        {
          "name": "stderr",
          "output_type": "stream",
          "text": [
            "/usr/local/lib/python3.12/dist-packages/keras/src/layers/reshaping/flatten.py:37: UserWarning: Do not pass an `input_shape`/`input_dim` argument to a layer. When using Sequential models, prefer using an `Input(shape)` object as the first layer in the model instead.\n",
            "  super().__init__(**kwargs)\n"
          ]
        },
        {
          "name": "stdout",
          "output_type": "stream",
          "text": [
            "Epoch 1/10\n",
            "422/422 - 4s - 9ms/step - accuracy: 0.7565 - loss: 0.7526 - val_accuracy: 0.8137 - val_loss: 0.5468\n",
            "Epoch 2/10\n",
            "422/422 - 3s - 7ms/step - accuracy: 0.8260 - loss: 0.5224 - val_accuracy: 0.8283 - val_loss: 0.4882\n",
            "Epoch 3/10\n",
            "422/422 - 1s - 3ms/step - accuracy: 0.8387 - loss: 0.4799 - val_accuracy: 0.8397 - val_loss: 0.4624\n",
            "Epoch 4/10\n",
            "422/422 - 1s - 3ms/step - accuracy: 0.8453 - loss: 0.4574 - val_accuracy: 0.8455 - val_loss: 0.4473\n",
            "Epoch 5/10\n",
            "422/422 - 1s - 3ms/step - accuracy: 0.8501 - loss: 0.4429 - val_accuracy: 0.8472 - val_loss: 0.4372\n",
            "Epoch 6/10\n",
            "422/422 - 1s - 3ms/step - accuracy: 0.8529 - loss: 0.4324 - val_accuracy: 0.8502 - val_loss: 0.4301\n",
            "Epoch 7/10\n",
            "422/422 - 1s - 3ms/step - accuracy: 0.8551 - loss: 0.4245 - val_accuracy: 0.8518 - val_loss: 0.4248\n",
            "Epoch 8/10\n",
            "422/422 - 1s - 3ms/step - accuracy: 0.8568 - loss: 0.4182 - val_accuracy: 0.8538 - val_loss: 0.4207\n",
            "Epoch 9/10\n",
            "422/422 - 1s - 3ms/step - accuracy: 0.8585 - loss: 0.4130 - val_accuracy: 0.8553 - val_loss: 0.4174\n",
            "Epoch 10/10\n",
            "422/422 - 2s - 6ms/step - accuracy: 0.8602 - loss: 0.4086 - val_accuracy: 0.8565 - val_loss: 0.4148\n",
            "Test performance (baseline):\n"
          ]
        },
        {
          "data": {
            "text/plain": [
              "[0.45451948046684265, 0.8406999707221985]"
            ]
          },
          "execution_count": 6,
          "metadata": {},
          "output_type": "execute_result"
        }
      ],
      "source": [
        "# Baseline linear classifier\n",
        "baseline = keras.Sequential([\n",
        "    keras.layers.Flatten(input_shape=(28, 28)),\n",
        "    keras.layers.Dense(10, activation=\"softmax\")\n",
        "])\n",
        "\n",
        "baseline.compile(optimizer=\"adam\",\n",
        "                 loss=\"sparse_categorical_crossentropy\",\n",
        "                 metrics=[\"accuracy\"])\n",
        "\n",
        "hist_baseline = baseline.fit(\n",
        "    X_train, y_train,\n",
        "    epochs=10, batch_size=128,\n",
        "    validation_data=(X_val, y_val),\n",
        "    verbose=2\n",
        ")\n",
        "\n",
        "print(\"Test performance (baseline):\")\n",
        "baseline.evaluate(X_test, y_test, verbose=0)\n"
      ]
    },
    {
      "cell_type": "code",
      "execution_count": null,
      "metadata": {
        "colab": {
          "base_uri": "https://localhost:8080/"
        },
        "id": "w-CxmnXdsL2T",
        "outputId": "a673796b-8247-4cd5-b752-136cc1e8526c"
      },
      "outputs": [
        {
          "name": "stdout",
          "output_type": "stream",
          "text": [
            "Epoch 1/20\n",
            "422/422 - 6s - 13ms/step - accuracy: 0.7913 - loss: 0.5943 - val_accuracy: 0.8462 - val_loss: 0.4254\n",
            "Epoch 2/20\n",
            "422/422 - 6s - 15ms/step - accuracy: 0.8502 - loss: 0.4177 - val_accuracy: 0.8672 - val_loss: 0.3621\n",
            "Epoch 3/20\n",
            "422/422 - 4s - 9ms/step - accuracy: 0.8649 - loss: 0.3751 - val_accuracy: 0.8745 - val_loss: 0.3419\n",
            "Epoch 4/20\n",
            "422/422 - 5s - 12ms/step - accuracy: 0.8730 - loss: 0.3491 - val_accuracy: 0.8808 - val_loss: 0.3341\n",
            "Epoch 5/20\n",
            "422/422 - 6s - 14ms/step - accuracy: 0.8781 - loss: 0.3325 - val_accuracy: 0.8777 - val_loss: 0.3481\n",
            "Epoch 6/20\n",
            "422/422 - 4s - 10ms/step - accuracy: 0.8841 - loss: 0.3154 - val_accuracy: 0.8818 - val_loss: 0.3241\n",
            "Epoch 7/20\n",
            "422/422 - 7s - 16ms/step - accuracy: 0.8868 - loss: 0.3061 - val_accuracy: 0.8835 - val_loss: 0.3193\n",
            "Epoch 8/20\n",
            "422/422 - 4s - 9ms/step - accuracy: 0.8893 - loss: 0.2971 - val_accuracy: 0.8828 - val_loss: 0.3244\n",
            "Epoch 9/20\n",
            "422/422 - 5s - 12ms/step - accuracy: 0.8924 - loss: 0.2887 - val_accuracy: 0.8802 - val_loss: 0.3326\n",
            "Epoch 10/20\n",
            "422/422 - 5s - 12ms/step - accuracy: 0.8961 - loss: 0.2809 - val_accuracy: 0.8853 - val_loss: 0.3156\n",
            "Epoch 11/20\n",
            "422/422 - 4s - 10ms/step - accuracy: 0.8988 - loss: 0.2724 - val_accuracy: 0.8867 - val_loss: 0.3155\n",
            "Epoch 12/20\n",
            "422/422 - 4s - 9ms/step - accuracy: 0.9003 - loss: 0.2676 - val_accuracy: 0.8867 - val_loss: 0.3118\n",
            "Epoch 13/20\n",
            "422/422 - 6s - 14ms/step - accuracy: 0.9023 - loss: 0.2596 - val_accuracy: 0.8870 - val_loss: 0.3183\n",
            "Epoch 14/20\n",
            "422/422 - 4s - 9ms/step - accuracy: 0.9045 - loss: 0.2540 - val_accuracy: 0.8840 - val_loss: 0.3249\n",
            "Epoch 15/20\n",
            "422/422 - 6s - 14ms/step - accuracy: 0.9071 - loss: 0.2474 - val_accuracy: 0.8883 - val_loss: 0.3141\n",
            "Epoch 16/20\n",
            "422/422 - 4s - 10ms/step - accuracy: 0.9076 - loss: 0.2445 - val_accuracy: 0.8888 - val_loss: 0.3095\n",
            "Epoch 17/20\n",
            "422/422 - 4s - 9ms/step - accuracy: 0.9095 - loss: 0.2407 - val_accuracy: 0.8892 - val_loss: 0.3170\n",
            "Epoch 18/20\n",
            "422/422 - 6s - 15ms/step - accuracy: 0.9124 - loss: 0.2328 - val_accuracy: 0.8947 - val_loss: 0.3126\n",
            "Epoch 19/20\n",
            "422/422 - 4s - 10ms/step - accuracy: 0.9131 - loss: 0.2309 - val_accuracy: 0.8940 - val_loss: 0.3039\n",
            "Epoch 20/20\n",
            "422/422 - 5s - 12ms/step - accuracy: 0.9132 - loss: 0.2273 - val_accuracy: 0.8923 - val_loss: 0.3144\n",
            "Test performance (MLP):\n"
          ]
        },
        {
          "data": {
            "text/plain": [
              "[0.34657520055770874, 0.8877000212669373]"
            ]
          },
          "execution_count": 7,
          "metadata": {},
          "output_type": "execute_result"
        }
      ],
      "source": [
        "#  MLP with two hidden layers + dropout\n",
        "mlp = keras.Sequential([\n",
        "    keras.layers.Flatten(input_shape=(28, 28)),\n",
        "    keras.layers.Dense(300, activation=\"relu\"),\n",
        "    keras.layers.Dropout(0.2),\n",
        "    keras.layers.Dense(100, activation=\"relu\"),\n",
        "    keras.layers.Dropout(0.2),\n",
        "    keras.layers.Dense(10, activation=\"softmax\")\n",
        "])\n",
        "\n",
        "mlp.compile(optimizer=keras.optimizers.Adam(learning_rate=1e-3),\n",
        "            loss=\"sparse_categorical_crossentropy\",\n",
        "            metrics=[\"accuracy\"])\n",
        "\n",
        "early = keras.callbacks.EarlyStopping(\n",
        "    monitor=\"val_accuracy\", patience=3, restore_best_weights=True\n",
        ")\n",
        "\n",
        "hist_mlp = mlp.fit(\n",
        "    X_train, y_train,\n",
        "    epochs=20, batch_size=128,\n",
        "    validation_data=(X_val, y_val),\n",
        "    callbacks=[early],\n",
        "    verbose=2\n",
        ")\n",
        "\n",
        "print(\"Test performance (MLP):\")\n",
        "mlp.evaluate(X_test, y_test, verbose=0)\n"
      ]
    },
    {
      "cell_type": "code",
      "execution_count": null,
      "metadata": {
        "colab": {
          "base_uri": "https://localhost:8080/"
        },
        "id": "Unjdm1Qhstcl",
        "outputId": "7b4fa2ad-8335-4a51-db4e-39b968ffd726"
      },
      "outputs": [
        {
          "data": {
            "text/plain": [
              "((54000, 28, 28, 1), (6000, 28, 28, 1), (10000, 28, 28, 1))"
            ]
          },
          "execution_count": 8,
          "metadata": {},
          "output_type": "execute_result"
        }
      ],
      "source": [
        "#  Add channel dimension for Conv2D\n",
        "X_train_cnn = X_train[..., np.newaxis]\n",
        "X_val_cnn   = X_val[..., np.newaxis]\n",
        "X_test_cnn  = X_test[..., np.newaxis]\n",
        "\n",
        "X_train_cnn.shape, X_val_cnn.shape, X_test_cnn.shape\n"
      ]
    },
    {
      "cell_type": "code",
      "execution_count": null,
      "metadata": {
        "colab": {
          "background_save": true,
          "base_uri": "https://localhost:8080/"
        },
        "id": "3gtaDxsPx3NR",
        "outputId": "4e41bb18-3385-4428-8c8a-3769a7a40e76"
      },
      "outputs": [
        {
          "name": "stderr",
          "output_type": "stream",
          "text": [
            "/usr/local/lib/python3.12/dist-packages/keras/src/layers/convolutional/base_conv.py:113: UserWarning: Do not pass an `input_shape`/`input_dim` argument to a layer. When using Sequential models, prefer using an `Input(shape)` object as the first layer in the model instead.\n",
            "  super().__init__(activity_regularizer=activity_regularizer, **kwargs)\n"
          ]
        },
        {
          "name": "stdout",
          "output_type": "stream",
          "text": [
            "Epoch 1/10\n",
            "422/422 - 94s - 222ms/step - accuracy: 0.8129 - loss: 0.5189 - val_accuracy: 0.8732 - val_loss: 0.3315\n",
            "Epoch 2/10\n",
            "422/422 - 91s - 216ms/step - accuracy: 0.8857 - loss: 0.3170 - val_accuracy: 0.8977 - val_loss: 0.2704\n",
            "Epoch 3/10\n",
            "422/422 - 142s - 336ms/step - accuracy: 0.9010 - loss: 0.2704 - val_accuracy: 0.9082 - val_loss: 0.2475\n",
            "Epoch 4/10\n",
            "422/422 - 91s - 215ms/step - accuracy: 0.9129 - loss: 0.2370 - val_accuracy: 0.9157 - val_loss: 0.2363\n",
            "Epoch 5/10\n",
            "422/422 - 93s - 220ms/step - accuracy: 0.9225 - loss: 0.2131 - val_accuracy: 0.9175 - val_loss: 0.2315\n",
            "Epoch 6/10\n",
            "422/422 - 140s - 333ms/step - accuracy: 0.9292 - loss: 0.1894 - val_accuracy: 0.9207 - val_loss: 0.2243\n",
            "Epoch 7/10\n",
            "422/422 - 142s - 335ms/step - accuracy: 0.9371 - loss: 0.1696 - val_accuracy: 0.9177 - val_loss: 0.2359\n",
            "Epoch 8/10\n",
            "422/422 - 140s - 332ms/step - accuracy: 0.9420 - loss: 0.1552 - val_accuracy: 0.9238 - val_loss: 0.2199\n",
            "Epoch 9/10\n",
            "422/422 - 91s - 215ms/step - accuracy: 0.9490 - loss: 0.1371 - val_accuracy: 0.9198 - val_loss: 0.2517\n",
            "Epoch 10/10\n",
            "422/422 - 143s - 339ms/step - accuracy: 0.9542 - loss: 0.1218 - val_accuracy: 0.9207 - val_loss: 0.2575\n",
            "Test performance (CNN):\n",
            "Test Accuracy: 0.9171, Test Loss: 0.2486\n"
          ]
        }
      ],
      "source": [
        "#  A compact CNN\n",
        "from tensorflow import keras\n",
        "\n",
        "cnn = keras.Sequential([\n",
        "    keras.layers.Conv2D(32, (3,3), padding=\"same\", activation=\"relu\", input_shape=(28,28,1)),\n",
        "    keras.layers.MaxPooling2D((2,2)),\n",
        "\n",
        "    keras.layers.Conv2D(64, (3,3), padding=\"same\", activation=\"relu\"),\n",
        "    keras.layers.MaxPooling2D((2,2)),\n",
        "\n",
        "    keras.layers.Conv2D(128, (3,3), padding=\"same\", activation=\"relu\"),\n",
        "    keras.layers.Flatten(),\n",
        "\n",
        "    keras.layers.Dense(128, activation=\"relu\"),\n",
        "    keras.layers.Dropout(0.3),\n",
        "    keras.layers.Dense(10, activation=\"softmax\")\n",
        "])\n",
        "\n",
        "# Compile\n",
        "cnn.compile(optimizer=keras.optimizers.Adam(learning_rate=1e-3),\n",
        "            loss=\"sparse_categorical_crossentropy\",\n",
        "            metrics=[\"accuracy\"])\n",
        "\n",
        "# Early stopping\n",
        "early_cnn = keras.callbacks.EarlyStopping(\n",
        "    monitor=\"val_accuracy\", patience=3, restore_best_weights=True\n",
        ")\n",
        "\n",
        "# Train\n",
        "hist_cnn = cnn.fit(\n",
        "    X_train_cnn, y_train,\n",
        "    epochs=10,                  # reduced epochs to avoid long execution\n",
        "    batch_size=128,\n",
        "    validation_data=(X_val_cnn, y_val),\n",
        "    callbacks=[early_cnn],\n",
        "    verbose=2\n",
        ")\n",
        "\n",
        "# Evaluate\n",
        "print(\"Test performance (CNN):\")\n",
        "test_loss, test_acc = cnn.evaluate(X_test_cnn, y_test, verbose=0)\n",
        "print(f\"Test Accuracy: {test_acc:.4f}, Test Loss: {test_loss:.4f}\")\n"
      ]
    },
    {
      "cell_type": "code",
      "execution_count": null,
      "metadata": {
        "colab": {
          "background_save": true
        },
        "id": "ctLVVIaz3IXx",
        "outputId": "4f37971b-8461-4f7f-f8ed-6f5140187268"
      },
      "outputs": [
        {
          "data": {
            "image/png": "[encoded data removed]",
            "text/plain": [
              "<Figure size 500x400 with 1 Axes>"
            ]
          },
          "metadata": {},
          "output_type": "display_data"
        },
        {
          "data": {
            "image/png": "[encoded data removed]",
            "text/plain": [
              "<Figure size 500x400 with 1 Axes>"
            ]
          },
          "metadata": {},
          "output_type": "display_data"
        },
        {
          "data": {
            "image/png": "[encoded data removed]",
            "text/plain": [
              "<Figure size 500x400 with 1 Axes>"
            ]
          },
          "metadata": {},
          "output_type": "display_data"
        }
      ],
      "source": [
        "#  Simple learning-curve plot helper\n",
        "def plot_history(h, title):\n",
        "    plt.figure(figsize=(5,4))\n",
        "    plt.plot(h.history[\"accuracy\"], label=\"train acc\")\n",
        "    plt.plot(h.history[\"val_accuracy\"], label=\"val acc\")\n",
        "    plt.title(title)\n",
        "    plt.xlabel(\"epoch\")\n",
        "    plt.ylabel(\"accuracy\")\n",
        "    plt.legend()\n",
        "    plt.show()\n",
        "\n",
        "plot_history(hist_baseline, \"Baseline (Softmax)\")\n",
        "plot_history(hist_mlp, \"MLP\")\n",
        "plot_history(hist_cnn, \"CNN\")\n"
      ]
    },
    {
      "cell_type": "code",
      "execution_count": null,
      "metadata": {
        "colab": {
          "base_uri": "https://localhost:8080/",
          "height": 1000
        },
        "id": "VK0aA_153UHT",
        "outputId": "f790d852-3eef-46e1-d2c4-76fec931e313"
      },
      "outputs": [
        {
          "name": "stdout",
          "output_type": "stream",
          "text": [
            "CNN Test Accuracy: 0.9172\n"
          ]
        },
        {
          "data": {
            "image/png": "[encoded data removed]",
            "text/plain": [
              "<Figure size 600x500 with 2 Axes>"
            ]
          },
          "metadata": {},
          "output_type": "display_data"
        },
        {
          "data": {
            "image/png": "[encoded data removed]",
            "text/plain": [
              "<Figure size 800x300 with 10 Axes>"
            ]
          },
          "metadata": {},
          "output_type": "display_data"
        },
        {
          "data": {
            "image/png": "[encoded data removed]",
            "text/plain": [
              "<Figure size 800x300 with 10 Axes>"
            ]
          },
          "metadata": {},
          "output_type": "display_data"
        }
      ],
      "source": [
        "#  Evaluate best model\n",
        "test_loss, test_acc = cnn.evaluate(X_test_cnn, y_test, verbose=0)\n",
        "print(f\"CNN Test Accuracy: {test_acc:.4f}\")\n",
        "\n",
        "# Predictions\n",
        "y_pred_probs = cnn.predict(X_test_cnn, verbose=0)\n",
        "y_pred = np.argmax(y_pred_probs, axis=1)\n",
        "\n",
        "# Confusion matrix with TensorFlow (no sklearn dependency)\n",
        "cm = tf.math.confusion_matrix(y_test, y_pred, num_classes=10).numpy()\n",
        "\n",
        "plt.figure(figsize=(6,5))\n",
        "plt.imshow(cm, interpolation='nearest')\n",
        "plt.title(\"Confusion Matrix (CNN)\")\n",
        "plt.xlabel(\"Predicted\")\n",
        "plt.ylabel(\"True\")\n",
        "plt.colorbar()\n",
        "tick_marks = np.arange(10)\n",
        "plt.xticks(tick_marks, range(10))\n",
        "plt.yticks(tick_marks, range(10))\n",
        "plt.tight_layout()\n",
        "plt.show()\n",
        "\n",
        "# Show a few correct vs incorrect predictions\n",
        "def show_examples(indices, title):\n",
        "    plt.figure(figsize=(8,3))\n",
        "    for i, idx in enumerate(indices[:10]):\n",
        "        plt.subplot(2,5,i+1)\n",
        "        plt.imshow(X_test[idx], cmap='binary')\n",
        "        plt.title(f\"T:{class_names[y_test[idx]]}\\nP:{class_names[y_pred[idx]]}\", fontsize=8)\n",
        "        plt.axis('off')\n",
        "    plt.suptitle(title)\n",
        "    plt.tight_layout()\n",
        "    plt.show()\n",
        "\n",
        "correct_idx = np.where(y_pred == y_test)[0]\n",
        "wrong_idx   = np.where(y_pred != y_test)[0]\n",
        "\n",
        "show_examples(correct_idx[:10], \"Correct predictions\")\n",
        "show_examples(wrong_idx[:10], \"Incorrect predictions\")\n"
      ]
    },
    {
      "cell_type": "code",
      "execution_count": null,
      "metadata": {
        "colab": {
          "base_uri": "https://localhost:8080/",
          "height": 597
        },
        "id": "JpRfySou4F2X",
        "outputId": "78659518-f134-452c-c45e-2d2cd8e76dc2"
      },
      "outputs": [
        {
          "data": {
            "image/png": "[encoded data removed]",
            "text/plain": [
              "<Figure size 640x480 with 1 Axes>"
            ]
          },
          "metadata": {},
          "output_type": "display_data"
        },
        {
          "name": "stdout",
          "output_type": "stream",
          "text": [
            "T-shirt/top : 0.000\n",
            "Trouser     : 0.000\n",
            "Pullover    : 0.100\n",
            "Dress       : 0.000\n",
            "Coat        : 0.874\n",
            "Sandal      : 0.000\n",
            "Shirt       : 0.026\n",
            "Sneaker     : 0.000\n",
            "Bag         : 0.000\n",
            "Ankle boot  : 0.000\n",
            "Predicted: Coat | True: Coat\n"
          ]
        }
      ],
      "source": [
        "#  Predict a single test image\n",
        "idx = 1234\n",
        "img = X_test[idx]\n",
        "plt.imshow(img, cmap='binary')\n",
        "plt.axis('off')\n",
        "plt.show()\n",
        "\n",
        "img_cnn = img[np.newaxis, ..., np.newaxis]\n",
        "probs = cnn.predict(img_cnn, verbose=0)[0]\n",
        "pred  = np.argmax(probs)\n",
        "\n",
        "for i, p in enumerate(probs):\n",
        "    print(f\"{class_names[i]:12s}: {p:.3f}\")\n",
        "print(\"Predicted:\", class_names[pred], \"| True:\", class_names[y_test[idx]])\n"
      ]
    },
    {
      "cell_type": "code",
      "execution_count": null,
      "metadata": {
        "colab": {
          "base_uri": "https://localhost:8080/"
        },
        "id": "QDmFfOt34vVV",
        "outputId": "5dd6a4b0-acf3-4dc6-c4c8-c5e8d18b4f6f"
      },
      "outputs": [
        {
          "name": "stderr",
          "output_type": "stream",
          "text": [
            "WARNING:absl:You are saving your model as an HDF5 file via `model.save()` or `keras.saving.save_model(model)`. This file format is considered legacy. We recommend using instead the native Keras format, e.g. `model.save('my_model.keras')` or `keras.saving.save_model(model, 'my_model.keras')`. \n",
            "WARNING:absl:Compiled the loaded model, but the compiled metrics have yet to be built. `model.compile_metrics` will be empty until you train or evaluate the model.\n"
          ]
        },
        {
          "name": "stdout",
          "output_type": "stream",
          "text": [
            "Reloaded model test accuracy:\n"
          ]
        },
        {
          "data": {
            "text/plain": [
              "[0.23826763033866882, 0.9172000288963318]"
            ]
          },
          "execution_count": 18,
          "metadata": {},
          "output_type": "execute_result"
        }
      ],
      "source": [
        "# Save and reload the CNN\n",
        "cnn.save(\"fashion_cnn.h5\")\n",
        "reloaded = keras.models.load_model(\"fashion_cnn.h5\")\n",
        "print(\"Reloaded model test accuracy:\")\n",
        "reloaded.evaluate(X_test_cnn, y_test, verbose=0)\n"
      ]
    },
    {
      "cell_type": "code",
      "execution_count": null,
      "metadata": {
        "id": "oHYhMBuHd3Bd"
      },
      "outputs": [],
      "source": [
        "import os\n",
        "\n",
        "# create 'static' folder if not exists\n",
        "os.makedirs(\"static\", exist_ok=True)\n",
        "\n",
        "# now save test images\n",
        "for i in range(10):\n",
        "    img = X_test[i]\n",
        "    plt.imsave(f\"static/test{i}.png\", img, cmap=\"gray\")\n"
      ]
    },
    {
      "cell_type": "code",
      "execution_count": null,
      "metadata": {
        "colab": {
          "base_uri": "https://localhost:8080/"
        },
        "id": "NsyYVI_-ePW8",
        "outputId": "0e1d9f67-3328-43d4-b452-9967a6e4b207"
      },
      "outputs": [
        {
          "name": "stderr",
          "output_type": "stream",
          "text": [
            "WARNING:absl:Compiled the loaded model, but the compiled metrics have yet to be built. `model.compile_metrics` will be empty until you train or evaluate the model.\n"
          ]
        },
        {
          "name": "stdout",
          "output_type": "stream",
          "text": [
            " * Serving Flask app '__main__'\n",
            " * Debug mode: on\n"
          ]
        },
        {
          "name": "stderr",
          "output_type": "stream",
          "text": [
            "INFO:werkzeug:\u001b[31m\u001b[1mWARNING: This is a development server. Do not use it in a production deployment. Use a production WSGI server instead.\u001b[0m\n",
            " * Running on http://127.0.0.1:5000\n",
            "INFO:werkzeug:\u001b[33mPress CTRL+C to quit\u001b[0m\n",
            "INFO:werkzeug: * Restarting with watchdog (inotify)\n"
          ]
        }
      ],
      "source": [
        "from flask import Flask, render_template, request\n",
        "import tensorflow as tf\n",
        "import numpy as np\n",
        "from PIL import Image\n",
        "import os\n",
        "\n",
        "app = Flask(__name__)\n",
        "\n",
        "# Load trained model\n",
        "model = tf.keras.models.load_model(\"fashion_cnn.h5\")\n",
        "class_names = [\"T-shirt/top\",\"Trouser\",\"Pullover\",\"Dress\",\"Coat\",\"Sandal\",\"Shirt\",\"Sneaker\",\"Bag\",\"Ankle boot\"]\n",
        "\n",
        "# Home page -> show 10 test images with dropdowns\n",
        "@app.route(\"/\", methods=[\"GET\", \"POST\"])\n",
        "def index():\n",
        "    images = [f\"test{i}.png\" for i in range(10)]\n",
        "    if request.method == \"POST\":\n",
        "        user_preds = request.form.getlist(\"prediction\")\n",
        "        correct = 0\n",
        "        for i, img_name in enumerate(images):\n",
        "            # Load image back\n",
        "            img = Image.open(os.path.join(\"static\", img_name)).convert(\"L\").resize((28,28))\n",
        "            img = np.array(img)/255.0\n",
        "            img = img.reshape(1,28,28,1)\n",
        "            pred = np.argmax(model.predict(img, verbose=0))\n",
        "            if class_names[pred] == user_preds[i]:\n",
        "                correct += 1\n",
        "        accuracy = (correct/len(images))*100\n",
        "        return render_template(\"index.html\", images=images, class_names=class_names, accuracy=accuracy, user_preds=user_preds)\n",
        "    return render_template(\"index.html\", images=images, class_names=class_names)\n",
        "\n",
        "if __name__ == \"__main__\":\n",
        "    app.run(debug=True)\n"
      ]
    },
    {
      "cell_type": "code",
      "execution_count": null,
      "metadata": {
        "colab": {
          "base_uri": "https://localhost:8080/"
        },
        "id": "VfbjKIbaqAek",
        "outputId": "eb96dcd2-c982-4031-9b88-c9370ecd55c9"
      },
      "outputs": [
        {
          "name": "stdout",
          "output_type": "stream",
          "text": [
            "Collecting pyngrok\n",
            "  Downloading pyngrok-7.3.0-py3-none-any.whl.metadata (8.1 kB)\n",
            "Requirement already satisfied: PyYAML>=5.1 in /usr/local/lib/python3.12/dist-packages (from pyngrok) (6.0.2)\n",
            "Downloading pyngrok-7.3.0-py3-none-any.whl (25 kB)\n",
            "Installing collected packages: pyngrok\n",
            "Successfully installed pyngrok-7.3.0\n"
          ]
        }
      ],
      "source": [
        "!pip install pyngrok\n"
      ]
    },
    {
      "cell_type": "code",
      "execution_count": null,
      "metadata": {
        "colab": {
          "base_uri": "https://localhost:8080/"
        },
        "id": "7WoqS1YBq92E",
        "outputId": "5e8db909-9153-46d3-9e74-93d5ab31ea45"
      },
      "outputs": [
        {
          "name": "stdout",
          "output_type": "stream",
          "text": [
            "Authtoken saved to configuration file: /root/.config/ngrok/ngrok.yml\n"
          ]
        }
      ],
      "source": [
        "!ngrok config add-authtoken YOUR_AUTHTOKEN_HERE\n"
      ]
    },
    {
      "cell_type": "code",
      "execution_count": null,
      "metadata": {
        "colab": {
          "base_uri": "https://localhost:8080/"
        },
        "id": "PbkxinsvrgHz",
        "outputId": "5eb66ce9-e10a-4fdc-ee6c-9e6b88fc34ff"
      },
      "outputs": [
        {
          "name": "stdout",
          "output_type": "stream",
          "text": [
            " * Public URL: NgrokTunnel: \"https://506965f2ad65.ngrok-free.app\" -> \"http://localhost:5000\"\n"
          ]
        }
      ],
      "source": [
        "from pyngrok import ngrok, conf\n",
        "\n",
        "# Replace with your actual authtoken\n",
        "ngrok.set_auth_token(\"31uqen84mEquPAPyFCMsIr0JuPx_2tTqnHwLVzBcvYCDnfYMg\")\n",
        "\n",
        "# Now connect\n",
        "public_url = ngrok.connect(5000)\n",
        "print(\" * Public URL:\", public_url)\n"
      ]
    },
    {
      "cell_type": "code",
      "execution_count": null,
      "metadata": {
        "colab": {
          "base_uri": "https://localhost:8080/"
        },
        "id": "yqpui_Mlty6k",
        "outputId": "6adccc92-78e8-4ff5-883d-abab2bb344ca"
      },
      "outputs": [
        {
          "name": "stdout",
          "output_type": "stream",
          "text": [
            "Requirement already satisfied: flask in /usr/local/lib/python3.12/dist-packages (3.1.2)\n",
            "Requirement already satisfied: flask-ngrok in /usr/local/lib/python3.12/dist-packages (0.0.25)\n",
            "Requirement already satisfied: blinker>=1.9.0 in /usr/local/lib/python3.12/dist-packages (from flask) (1.9.0)\n",
            "Requirement already satisfied: click>=8.1.3 in /usr/local/lib/python3.12/dist-packages (from flask) (8.2.1)\n",
            "Requirement already satisfied: itsdangerous>=2.2.0 in /usr/local/lib/python3.12/dist-packages (from flask) (2.2.0)\n",
            "Requirement already satisfied: jinja2>=3.1.2 in /usr/local/lib/python3.12/dist-packages (from flask) (3.1.6)\n",
            "Requirement already satisfied: markupsafe>=2.1.1 in /usr/local/lib/python3.12/dist-packages (from flask) (3.0.2)\n",
            "Requirement already satisfied: werkzeug>=3.1.0 in /usr/local/lib/python3.12/dist-packages (from flask) (3.1.3)\n",
            "Requirement already satisfied: requests in /usr/local/lib/python3.12/dist-packages (from flask-ngrok) (2.32.4)\n",
            "Requirement already satisfied: charset_normalizer<4,>=2 in /usr/local/lib/python3.12/dist-packages (from requests->flask-ngrok) (3.4.3)\n",
            "Requirement already satisfied: idna<4,>=2.5 in /usr/local/lib/python3.12/dist-packages (from requests->flask-ngrok) (3.10)\n",
            "Requirement already satisfied: urllib3<3,>=1.21.1 in /usr/local/lib/python3.12/dist-packages (from requests->flask-ngrok) (2.5.0)\n",
            "Requirement already satisfied: certifi>=2017.4.17 in /usr/local/lib/python3.12/dist-packages (from requests->flask-ngrok) (2025.8.3)\n"
          ]
        }
      ],
      "source": [
        "!pip install flask flask-ngrok\n"
      ]
    },
    {
      "cell_type": "code",
      "execution_count": null,
      "metadata": {
        "colab": {
          "base_uri": "https://localhost:8080/"
        },
        "id": "n1K21nKxv8Vq",
        "outputId": "63383e9b-2139-4821-b583-d9c59ae09db6"
      },
      "outputs": [
        {
          "name": "stdout",
          "output_type": "stream",
          "text": [
            "🌍 Public URL: NgrokTunnel: \"https://06bc9ca836c2.ngrok-free.app\" -> \"http://localhost:5000\"\n",
            " * Serving Flask app '__main__'\n",
            " * Debug mode: off\n"
          ]
        },
        {
          "name": "stderr",
          "output_type": "stream",
          "text": [
            "INFO:werkzeug:\u001b[31m\u001b[1mWARNING: This is a development server. Do not use it in a production deployment. Use a production WSGI server instead.\u001b[0m\n",
            " * Running on http://127.0.0.1:5000\n",
            "INFO:werkzeug:\u001b[33mPress CTRL+C to quit\u001b[0m\n",
            "INFO:werkzeug:127.0.0.1 - - [28/Aug/2025 12:57:22] \"GET / HTTP/1.1\" 200 -\n",
            "INFO:werkzeug:127.0.0.1 - - [28/Aug/2025 12:57:23] \"\u001b[33mGET /favicon.ico HTTP/1.1\u001b[0m\" 404 -\n"
          ]
        }
      ],
      "source": [
        "!pip install flask pyngrok --quiet\n",
        "\n",
        "from flask import Flask\n",
        "from pyngrok import ngrok\n",
        "\n",
        "# Create Flask app\n",
        "app = Flask(__name__)\n",
        "\n",
        "@app.route(\"/\")\n",
        "def home():\n",
        "    return \"🚀 Flask with ngrok is working!\"\n",
        "\n",
        "# Open a tunnel on port 5000\n",
        "public_url = ngrok.connect(5000)\n",
        "print(\"🌍 Public URL:\", public_url)\n",
        "\n",
        "# Run Flask\n",
        "app.run(port=5000)\n"
      ]
    },
    {
      "cell_type": "code",
      "execution_count": null,
      "metadata": {
        "colab": {
          "base_uri": "https://localhost:8080/"
        },
        "id": "p4Kei6N903BW",
        "outputId": "3a670045-d9e0-4b74-9de3-6eb6cb4eb0f7"
      },
      "outputs": [
        {
          "name": "stdout",
          "output_type": "stream",
          "text": [
            "Requirement already satisfied: flask in /usr/local/lib/python3.12/dist-packages (3.1.2)\n",
            "Requirement already satisfied: pyngrok in /usr/local/lib/python3.12/dist-packages (7.3.0)\n",
            "Requirement already satisfied: blinker>=1.9.0 in /usr/local/lib/python3.12/dist-packages (from flask) (1.9.0)\n",
            "Requirement already satisfied: click>=8.1.3 in /usr/local/lib/python3.12/dist-packages (from flask) (8.2.1)\n",
            "Requirement already satisfied: itsdangerous>=2.2.0 in /usr/local/lib/python3.12/dist-packages (from flask) (2.2.0)\n",
            "Requirement already satisfied: jinja2>=3.1.2 in /usr/local/lib/python3.12/dist-packages (from flask) (3.1.6)\n",
            "Requirement already satisfied: markupsafe>=2.1.1 in /usr/local/lib/python3.12/dist-packages (from flask) (3.0.2)\n",
            "Requirement already satisfied: werkzeug>=3.1.0 in /usr/local/lib/python3.12/dist-packages (from flask) (3.1.3)\n",
            "Requirement already satisfied: PyYAML>=5.1 in /usr/local/lib/python3.12/dist-packages (from pyngrok) (6.0.2)\n"
          ]
        }
      ],
      "source": [
        "!pip install flask pyngrok\n"
      ]
    },
    {
      "cell_type": "code",
      "execution_count": null,
      "metadata": {
        "colab": {
          "base_uri": "https://localhost:8080/"
        },
        "id": "_52wBIsY07L9",
        "outputId": "559cf8ed-cf8c-426d-e833-134efd740fd1"
      },
      "outputs": [
        {
          "name": "stdout",
          "output_type": "stream",
          "text": [
            "🌍 Public URL: NgrokTunnel: \"https://156c826ea3f8.ngrok-free.app\" -> \"http://localhost:5000\"\n",
            " * Serving Flask app '__main__'\n",
            " * Debug mode: off\n"
          ]
        },
        {
          "name": "stderr",
          "output_type": "stream",
          "text": [
            "INFO:werkzeug:\u001b[31m\u001b[1mWARNING: This is a development server. Do not use it in a production deployment. Use a production WSGI server instead.\u001b[0m\n",
            " * Running on http://127.0.0.1:5000\n",
            "INFO:werkzeug:\u001b[33mPress CTRL+C to quit\u001b[0m\n",
            "INFO:werkzeug:127.0.0.1 - - [28/Aug/2025 13:21:42] \"GET / HTTP/1.1\" 200 -\n",
            "INFO:werkzeug:127.0.0.1 - - [28/Aug/2025 13:21:43] \"\u001b[33mGET /favicon.ico HTTP/1.1\u001b[0m\" 404 -\n"
          ]
        }
      ],
      "source": [
        "from flask import Flask, render_template_string\n",
        "from pyngrok import ngrok\n",
        "\n",
        "app = Flask(__name__)\n",
        "\n",
        "# HTML template\n",
        "html_template = \"\"\"\n",
        "<!DOCTYPE html>\n",
        "<html>\n",
        "<head>\n",
        "    <title>Flask App</title>\n",
        "</head>\n",
        "<body>\n",
        "    <h1>🚀 Flask App is Running!</h1>\n",
        "    <p>Welcome to your Flask app served via ngrok 🌍</p>\n",
        "</body>\n",
        "</html>\n",
        "\"\"\"\n",
        "\n",
        "@app.route(\"/\")\n",
        "def home():\n",
        "    return render_template_string(html_template)\n",
        "\n",
        "# Start ngrok tunnel & Flask\n",
        "if __name__ == \"__main__\":\n",
        "    # Open an ngrok tunnel to port 5000\n",
        "    public_url = ngrok.connect(5000)\n",
        "    print(\"🌍 Public URL:\", public_url)\n",
        "\n",
        "    # Run Flask app\n",
        "    app.run(port=5000)\n"
      ]
    },
    {
      "cell_type": "code",
      "execution_count": null,
      "metadata": {
        "colab": {
          "base_uri": "https://localhost:8080/"
        },
        "id": "hkyg-rNp92fS",
        "outputId": "03932207-90bb-4450-e3cd-881910f46859"
      },
      "outputs": [
        {
          "name": "stderr",
          "output_type": "stream",
          "text": [
            "/usr/local/lib/python3.12/dist-packages/keras/src/layers/reshaping/flatten.py:37: UserWarning: Do not pass an `input_shape`/`input_dim` argument to a layer. When using Sequential models, prefer using an `Input(shape)` object as the first layer in the model instead.\n",
            "  super().__init__(**kwargs)\n"
          ]
        },
        {
          "name": "stdout",
          "output_type": "stream",
          "text": [
            "🌍 Public URL: NgrokTunnel: \"https://d7f18dfbcc98.ngrok-free.app\" -> \"http://localhost:5000\"\n",
            " * Serving Flask app '__main__'\n",
            " * Debug mode: off\n"
          ]
        },
        {
          "name": "stderr",
          "output_type": "stream",
          "text": [
            "INFO:werkzeug:\u001b[31m\u001b[1mWARNING: This is a development server. Do not use it in a production deployment. Use a production WSGI server instead.\u001b[0m\n",
            " * Running on http://127.0.0.1:5000\n",
            "INFO:werkzeug:\u001b[33mPress CTRL+C to quit\u001b[0m\n",
            "INFO:werkzeug:127.0.0.1 - - [28/Aug/2025 13:58:51] \"GET / HTTP/1.1\" 200 -\n",
            "INFO:werkzeug:127.0.0.1 - - [28/Aug/2025 13:58:53] \"\u001b[33mGET /favicon.ico HTTP/1.1\u001b[0m\" 404 -\n",
            "WARNING:pyngrok.process.ngrok:t=2025-08-28T14:01:25+0000 lvl=warn msg=\"Stopping forwarder\" name=http-5000-19f5236c-9110-4239-8bb5-dc8256596407 acceptErr=\"failed to accept connection: Listener closed\"\n",
            "WARNING:pyngrok.process.ngrok:t=2025-08-28T14:01:25+0000 lvl=warn msg=\"Error restarting forwarder\" name=http-5000-19f5236c-9110-4239-8bb5-dc8256596407 err=\"failed to start tunnel: session closed\"\n"
          ]
        }
      ],
      "source": [
        "from flask import Flask, render_template_string, request, jsonify\n",
        "from pyngrok import ngrok\n",
        "import numpy as np\n",
        "import pandas as pd\n",
        "import tensorflow as tf\n",
        "from tensorflow import keras\n",
        "\n",
        "app = Flask(__name__)\n",
        "\n",
        "# HTML template (homepage with file upload forms)\n",
        "html_template = \"\"\"\n",
        "<!DOCTYPE html>\n",
        "<html>\n",
        "<head>\n",
        "    <title>Flask Fashion App</title>\n",
        "</head>\n",
        "<body>\n",
        "    <h1>🚀 Flask + Fashion-MNIST App</h1>\n",
        "    <p>Welcome to your Flask app served via ngrok 🌍</p>\n",
        "\n",
        "    <h2>🔮 Predict Clothing Item</h2>\n",
        "    <form action=\"/predict\" method=\"post\" enctype=\"multipart/form-data\">\n",
        "        <input type=\"file\" name=\"file\" required>\n",
        "        <button type=\"submit\">Predict</button>\n",
        "    </form>\n",
        "\n",
        "    <h2>📊 Evaluate Students' Predictions</h2>\n",
        "    <form action=\"/evaluate\" method=\"post\" enctype=\"multipart/form-data\">\n",
        "        <input type=\"file\" name=\"file\" required>\n",
        "        <button type=\"submit\">Evaluate</button>\n",
        "    </form>\n",
        "</body>\n",
        "</html>\n",
        "\"\"\"\n",
        "\n",
        "# Load Fashion-MNIST dataset\n",
        "fashion_mnist = keras.datasets.fashion_mnist\n",
        "(_, _), (X_test, y_test) = fashion_mnist.load_data()\n",
        "\n",
        "# Class labels\n",
        "class_names = [\"T-shirt\", \"Trouser\", \"Pullover\", \"Dress\", \"Coat\",\n",
        "               \"Sandal\", \"Shirt\", \"Sneaker\", \"Bag\", \"Ankle boot\"]\n",
        "\n",
        "# Dummy correction map\n",
        "confusion_map = {\n",
        "    \"Shirt->T-shirt\": \"T-shirt\",\n",
        "    \"Coat->Dress\": \"Dress\"\n",
        "}\n",
        "\n",
        "def correct_label(pred_label, true_label):\n",
        "    key = f\"{pred_label}->{true_label}\"\n",
        "    if key in confusion_map:\n",
        "        return confusion_map[key]\n",
        "    return pred_label\n",
        "\n",
        "# Simple ML model (untrained demo — replace with your trained weights if available)\n",
        "model = keras.Sequential([\n",
        "    keras.layers.Flatten(input_shape=(28,28)),\n",
        "    keras.layers.Dense(128, activation='relu'),\n",
        "    keras.layers.Dense(10, activation='softmax')\n",
        "])\n",
        "model.compile(optimizer=\"adam\", loss=\"sparse_categorical_crossentropy\", metrics=[\"accuracy\"])\n",
        "\n",
        "@app.route(\"/\")\n",
        "def home():\n",
        "    return render_template_string(html_template)\n",
        "\n",
        "@app.route(\"/predict\", methods=[\"POST\"])\n",
        "def predict():\n",
        "    file = request.files[\"file\"]\n",
        "    img = tf.keras.preprocessing.image.load_img(file, color_mode=\"grayscale\", target_size=(28,28))\n",
        "    img_array = tf.keras.preprocessing.image.img_to_array(img) / 255.0\n",
        "    img_array = np.expand_dims(img_array, 0)  # batch dimension\n",
        "    preds = model.predict(img_array)\n",
        "    label = class_names[np.argmax(preds)]\n",
        "    return jsonify({\"prediction\": label})\n",
        "\n",
        "@app.route(\"/evaluate\", methods=[\"POST\"])\n",
        "def evaluate():\n",
        "    file = request.files[\"file\"]\n",
        "    df = pd.read_csv(file)\n",
        "\n",
        "    results = []\n",
        "    for idx, row in df.iterrows():\n",
        "        pred = row[\"predicted_label\"]\n",
        "        true = class_names[y_test[idx]]\n",
        "        corrected = correct_label(pred, true)\n",
        "        results.append({\n",
        "            \"index\": int(idx),\n",
        "            \"true_label\": true,\n",
        "            \"predicted_label\": pred,\n",
        "            \"corrected_label\": corrected,\n",
        "            \"was_correct\": pred == true,\n",
        "            \"is_correct\": corrected == true\n",
        "        })\n",
        "\n",
        "    df_res = pd.DataFrame(results)\n",
        "    acc_before = df_res[\"was_correct\"].mean()\n",
        "    acc_after = df_res[\"is_correct\"].mean()\n",
        "\n",
        "    return jsonify({\n",
        "        \"accuracy_before\": acc_before,\n",
        "        \"accuracy_after\": acc_after,\n",
        "        \"items\": results[:10]  # show sample\n",
        "    })\n",
        "\n",
        "# Start ngrok + Flask\n",
        "if __name__ == \"__main__\":\n",
        "    public_url = ngrok.connect(5000)\n",
        "    print(\"🌍 Public URL:\", public_url)\n",
        "    app.run(port=5000)\n"
      ]
    },
    {
      "cell_type": "code",
      "execution_count": null,
      "metadata": {
        "colab": {
          "base_uri": "https://localhost:8080/"
        },
        "id": "AkMN4mTZ_Iy6",
        "outputId": "567cf756-fb6b-45fa-bccb-a964387e7b8a"
      },
      "outputs": [
        {
          "name": "stdout",
          "output_type": "stream",
          "text": [
            "✅ Images saved: ['/mnt/data/fashion_images/img_0_Shirt.png', '/mnt/data/fashion_images/img_1_Dress.png', '/mnt/data/fashion_images/img_2_T-shirt.png', '/mnt/data/fashion_images/img_3_Sandal.png', '/mnt/data/fashion_images/img_4_Pullover.png', '/mnt/data/fashion_images/img_5_Sandal.png', '/mnt/data/fashion_images/img_6_Ankle boot.png', '/mnt/data/fashion_images/img_7_Sandal.png', '/mnt/data/fashion_images/img_8_Shirt.png', '/mnt/data/fashion_images/img_9_Dress.png']\n"
          ]
        }
      ],
      "source": [
        "import matplotlib.pyplot as plt\n",
        "import numpy as np\n",
        "import os\n",
        "from tensorflow import keras\n",
        "\n",
        "# Load Fashion-MNIST test set\n",
        "(_, _), (X_test, y_test) = keras.datasets.fashion_mnist.load_data()\n",
        "\n",
        "# Class labels\n",
        "class_names = [\"T-shirt\", \"Trouser\", \"Pullover\", \"Dress\", \"Coat\",\n",
        "               \"Sandal\", \"Shirt\", \"Sneaker\", \"Bag\", \"Ankle boot\"]\n",
        "\n",
        "# Create output folder\n",
        "output_dir = \"/mnt/data/fashion_images\"\n",
        "os.makedirs(output_dir, exist_ok=True)\n",
        "\n",
        "# Save 10 random test images as PNG\n",
        "np.random.seed(42)\n",
        "indices = np.random.choice(len(X_test), 10, replace=False)\n",
        "file_paths = []\n",
        "\n",
        "for i, idx in enumerate(indices):\n",
        "    img = X_test[idx]\n",
        "    label = class_names[y_test[idx]]\n",
        "    file_path = os.path.join(output_dir, f\"img_{i}_{label}.png\")\n",
        "    plt.imsave(file_path, img, cmap=\"gray\")\n",
        "    file_paths.append(file_path)\n",
        "\n",
        "print(\"✅ Images saved:\", file_paths)\n"
      ]
    },
    {
      "cell_type": "code",
      "execution_count": null,
      "metadata": {
        "colab": {
          "base_uri": "https://localhost:8080/"
        },
        "id": "iyt64Rm5_Liq",
        "outputId": "2fd27bd6-f1cc-469a-eb60-8b9f3e3f2544"
      },
      "outputs": [
        {
          "name": "stdout",
          "output_type": "stream",
          "text": [
            "📂 Zip created at: /mnt/data/fashion_images.zip\n"
          ]
        }
      ],
      "source": [
        "import zipfile\n",
        "\n",
        "# Path for zip file\n",
        "zip_path = \"/mnt/data/fashion_images.zip\"\n",
        "\n",
        "# Create zip\n",
        "with zipfile.ZipFile(zip_path, 'w') as zipf:\n",
        "    for file in file_paths:\n",
        "        zipf.write(file, os.path.basename(file))\n",
        "\n",
        "print(\"📂 Zip created at:\", zip_path)\n"
      ]
    },
    {
      "cell_type": "code",
      "execution_count": null,
      "metadata": {
        "colab": {
          "base_uri": "https://localhost:8080/"
        },
        "id": "ukvNaKmY_o58",
        "outputId": "47482fe0-0760-4f26-bc2a-54c1e833228a"
      },
      "outputs": [
        {
          "name": "stdout",
          "output_type": "stream",
          "text": [
            "🌍 Public URL: NgrokTunnel: \"https://3142cbe9fd86.ngrok-free.app\" -> \"http://localhost:5000\"\n",
            " * Serving Flask app '__main__'\n",
            " * Debug mode: off\n"
          ]
        },
        {
          "name": "stderr",
          "output_type": "stream",
          "text": [
            "INFO:werkzeug:\u001b[31m\u001b[1mWARNING: This is a development server. Do not use it in a production deployment. Use a production WSGI server instead.\u001b[0m\n",
            " * Running on http://127.0.0.1:5000\n",
            "INFO:werkzeug:\u001b[33mPress CTRL+C to quit\u001b[0m\n",
            "INFO:werkzeug:127.0.0.1 - - [28/Aug/2025 14:06:07] \"GET / HTTP/1.1\" 200 -\n",
            "INFO:werkzeug:127.0.0.1 - - [28/Aug/2025 14:06:09] \"\u001b[33mGET /favicon.ico HTTP/1.1\u001b[0m\" 404 -\n"
          ]
        }
      ],
      "source": [
        "from flask import Flask, render_template_string, request\n",
        "from pyngrok import ngrok\n",
        "import numpy as np\n",
        "from tensorflow import keras\n",
        "from PIL import Image\n",
        "\n",
        "# Flask app\n",
        "app = Flask(__name__)\n",
        "\n",
        "# Load Fashion-MNIST model (or your trained model)\n",
        "model = keras.Sequential([\n",
        "    keras.layers.Input(shape=(28,28,1)),\n",
        "    keras.layers.Conv2D(32, (3,3), activation=\"relu\"),\n",
        "    keras.layers.MaxPooling2D((2,2)),\n",
        "    keras.layers.Flatten(),\n",
        "    keras.layers.Dense(64, activation=\"relu\"),\n",
        "    keras.layers.Dense(10, activation=\"softmax\")\n",
        "])\n",
        "model.compile(optimizer=\"adam\", loss=\"sparse_categorical_crossentropy\", metrics=[\"accuracy\"])\n",
        "\n",
        "# Load pretrained weights (if available, otherwise train beforehand)\n",
        "# model.load_weights(\"fashion_mnist_model.h5\")\n",
        "\n",
        "# Class labels\n",
        "class_names = [\"T-shirt\", \"Trouser\", \"Pullover\", \"Dress\", \"Coat\",\n",
        "               \"Sandal\", \"Shirt\", \"Sneaker\", \"Bag\", \"Ankle boot\"]\n",
        "\n",
        "# HTML template\n",
        "html_template = \"\"\"\n",
        "<!DOCTYPE html>\n",
        "<html>\n",
        "<head>\n",
        "    <title>🚀 Flask + Fashion-MNIST App</title>\n",
        "</head>\n",
        "<body style=\"font-family: Arial; margin: 40px;\">\n",
        "    <h1>🚀 Flask + Fashion-MNIST App</h1>\n",
        "    <p>Welcome to your Flask app served via ngrok 🌍</p>\n",
        "\n",
        "    <h2>🔮 Predict Clothing Item</h2>\n",
        "    <form method=\"POST\" action=\"/predict\" enctype=\"multipart/form-data\">\n",
        "        <input type=\"file\" name=\"file\" required>\n",
        "        <input type=\"submit\" value=\"Predict\">\n",
        "    </form>\n",
        "\n",
        "    <h2>📊 Evaluate Students' Predictions</h2>\n",
        "    <form method=\"POST\" action=\"/evaluate\" enctype=\"multipart/form-data\">\n",
        "        <input type=\"file\" name=\"file\" required>\n",
        "        <input type=\"submit\" value=\"Evaluate\">\n",
        "    </form>\n",
        "</body>\n",
        "</html>\n",
        "\"\"\"\n",
        "\n",
        "@app.route(\"/\")\n",
        "def home():\n",
        "    return render_template_string(html_template)\n",
        "\n",
        "@app.route(\"/predict\", methods=[\"POST\"])\n",
        "def predict():\n",
        "    if \"file\" not in request.files:\n",
        "        return \"No file uploaded\", 400\n",
        "    file = request.files[\"file\"]\n",
        "    if file.filename == \"\":\n",
        "        return \"No selected file\", 400\n",
        "\n",
        "    # Preprocess uploaded image\n",
        "    img = Image.open(file).convert(\"L\").resize((28, 28))\n",
        "    img_array = np.array(img) / 255.0\n",
        "    img_array = img_array.reshape(1, 28, 28, 1)\n",
        "\n",
        "    # Model prediction\n",
        "    prediction = model.predict(img_array)\n",
        "    predicted_class = class_names[np.argmax(prediction)]\n",
        "\n",
        "    # Show result in HTML\n",
        "    return render_template_string(\"\"\"\n",
        "        <h1>🔮 Prediction Result</h1>\n",
        "        <p><b>Predicted Class:</b> {{label}}</p>\n",
        "        <a href=\"/\">⬅️ Back</a>\n",
        "    \"\"\", label=predicted_class)\n",
        "\n",
        "# Start ngrok + Flask\n",
        "if __name__ == \"__main__\":\n",
        "    public_url = ngrok.connect(5000)\n",
        "    print(\"🌍 Public URL:\", public_url)\n",
        "    app.run(port=5000)\n"
      ]
    },
    {
      "cell_type": "code",
      "execution_count": null,
      "metadata": {
        "colab": {
          "base_uri": "https://localhost:8080/"
        },
        "id": "ZD5usxEGBL0l",
        "outputId": "a1fdad59-e4b9-4207-d5d5-933000598f63"
      },
      "outputs": [
        {
          "name": "stdout",
          "output_type": "stream",
          "text": [
            "✅ Images extracted to: /content/fashion_images\n",
            "📂 Files: ['img_4_Pullover.png', 'img_7_Sandal.png', 'img_1_Dress.png', 'img_0_Shirt.png', 'img_6_Ankle boot.png', 'img_9_Dress.png', 'img_2_T-shirt.png', 'img_5_Sandal.png', 'img_8_Shirt.png', 'img_3_Sandal.png']\n"
          ]
        }
      ],
      "source": [
        "import zipfile\n",
        "import os\n",
        "\n",
        "# Path to your zip file\n",
        "zip_path = \"/mnt/data/fashion_images.zip\"\n",
        "extract_path = \"/content/fashion_images\"\n",
        "\n",
        "# Make sure folder exists\n",
        "os.makedirs(extract_path, exist_ok=True)\n",
        "\n",
        "# Unzip images\n",
        "with zipfile.ZipFile(zip_path, \"r\") as zip_ref:\n",
        "    zip_ref.extractall(extract_path)\n",
        "\n",
        "print(\"✅ Images extracted to:\", extract_path)\n",
        "print(\"📂 Files:\", os.listdir(extract_path)[:10])  # show first 10 files\n"
      ]
    },
    {
      "cell_type": "code",
      "execution_count": null,
      "metadata": {
        "colab": {
          "background_save": true,
          "base_uri": "https://localhost:8080/"
        },
        "id": "1wtwgCbIGNBV",
        "outputId": "0d95bbe5-fb94-4f82-b4a4-509aa137147c"
      },
      "outputs": [
        {
          "name": "stdout",
          "output_type": "stream",
          "text": [
            "Requirement already satisfied: flask in /usr/local/lib/python3.12/dist-packages (3.1.2)\n",
            "Requirement already satisfied: flask-ngrok in /usr/local/lib/python3.12/dist-packages (0.0.25)\n",
            "Requirement already satisfied: tensorflow in /usr/local/lib/python3.12/dist-packages (2.19.0)\n",
            "Requirement already satisfied: pillow in /usr/local/lib/python3.12/dist-packages (11.3.0)\n",
            "Requirement already satisfied: blinker>=1.9.0 in /usr/local/lib/python3.12/dist-packages (from flask) (1.9.0)\n",
            "Requirement already satisfied: click>=8.1.3 in /usr/local/lib/python3.12/dist-packages (from flask) (8.2.1)\n",
            "Requirement already satisfied: itsdangerous>=2.2.0 in /usr/local/lib/python3.12/dist-packages (from flask) (2.2.0)\n",
            "Requirement already satisfied: jinja2>=3.1.2 in /usr/local/lib/python3.12/dist-packages (from flask) (3.1.6)\n",
            "Requirement already satisfied: markupsafe>=2.1.1 in /usr/local/lib/python3.12/dist-packages (from flask) (3.0.2)\n",
            "Requirement already satisfied: werkzeug>=3.1.0 in /usr/local/lib/python3.12/dist-packages (from flask) (3.1.3)\n",
            "Requirement already satisfied: requests in /usr/local/lib/python3.12/dist-packages (from flask-ngrok) (2.32.4)\n",
            "Requirement already satisfied: absl-py>=1.0.0 in /usr/local/lib/python3.12/dist-packages (from tensorflow) (1.4.0)\n",
            "Requirement already satisfied: astunparse>=1.6.0 in /usr/local/lib/python3.12/dist-packages (from tensorflow) (1.6.3)\n",
            "Requirement already satisfied: flatbuffers>=24.3.25 in /usr/local/lib/python3.12/dist-packages (from tensorflow) (25.2.10)\n",
            "Requirement already satisfied: gast!=0.5.0,!=0.5.1,!=0.5.2,>=0.2.1 in /usr/local/lib/python3.12/dist-packages (from tensorflow) (0.6.0)\n",
            "Requirement already satisfied: google-pasta>=0.1.1 in /usr/local/lib/python3.12/dist-packages (from tensorflow) (0.2.0)\n",
            "Requirement already satisfied: libclang>=13.0.0 in /usr/local/lib/python3.12/dist-packages (from tensorflow) (18.1.1)\n",
            "Requirement already satisfied: opt-einsum>=2.3.2 in /usr/local/lib/python3.12/dist-packages (from tensorflow) (3.4.0)\n",
            "Requirement already satisfied: packaging in /usr/local/lib/python3.12/dist-packages (from tensorflow) (25.0)\n",
            "Requirement already satisfied: protobuf!=4.21.0,!=4.21.1,!=4.21.2,!=4.21.3,!=4.21.4,!=4.21.5,<6.0.0dev,>=3.20.3 in /usr/local/lib/python3.12/dist-packages (from tensorflow) (5.29.5)\n",
            "Requirement already satisfied: setuptools in /usr/local/lib/python3.12/dist-packages (from tensorflow) (75.2.0)\n",
            "Requirement already satisfied: six>=1.12.0 in /usr/local/lib/python3.12/dist-packages (from tensorflow) (1.17.0)\n",
            "Requirement already satisfied: termcolor>=1.1.0 in /usr/local/lib/python3.12/dist-packages (from tensorflow) (3.1.0)\n",
            "Requirement already satisfied: typing-extensions>=3.6.6 in /usr/local/lib/python3.12/dist-packages (from tensorflow) (4.15.0)\n",
            "Requirement already satisfied: wrapt>=1.11.0 in /usr/local/lib/python3.12/dist-packages (from tensorflow) (1.17.3)\n",
            "Requirement already satisfied: grpcio<2.0,>=1.24.3 in /usr/local/lib/python3.12/dist-packages (from tensorflow) (1.74.0)\n",
            "Requirement already satisfied: tensorboard~=2.19.0 in /usr/local/lib/python3.12/dist-packages (from tensorflow) (2.19.0)\n",
            "Requirement already satisfied: keras>=3.5.0 in /usr/local/lib/python3.12/dist-packages (from tensorflow) (3.10.0)\n",
            "Requirement already satisfied: numpy<2.2.0,>=1.26.0 in /usr/local/lib/python3.12/dist-packages (from tensorflow) (2.0.2)\n",
            "Requirement already satisfied: h5py>=3.11.0 in /usr/local/lib/python3.12/dist-packages (from tensorflow) (3.14.0)\n",
            "Requirement already satisfied: ml-dtypes<1.0.0,>=0.5.1 in /usr/local/lib/python3.12/dist-packages (from tensorflow) (0.5.3)\n",
            "Requirement already satisfied: wheel<1.0,>=0.23.0 in /usr/local/lib/python3.12/dist-packages (from astunparse>=1.6.0->tensorflow) (0.45.1)\n",
            "Requirement already satisfied: rich in /usr/local/lib/python3.12/dist-packages (from keras>=3.5.0->tensorflow) (13.9.4)\n",
            "Requirement already satisfied: namex in /usr/local/lib/python3.12/dist-packages (from keras>=3.5.0->tensorflow) (0.1.0)\n",
            "Requirement already satisfied: optree in /usr/local/lib/python3.12/dist-packages (from keras>=3.5.0->tensorflow) (0.17.0)\n",
            "Requirement already satisfied: charset_normalizer<4,>=2 in /usr/local/lib/python3.12/dist-packages (from requests->flask-ngrok) (3.4.3)\n",
            "Requirement already satisfied: idna<4,>=2.5 in /usr/local/lib/python3.12/dist-packages (from requests->flask-ngrok) (3.10)\n",
            "Requirement already satisfied: urllib3<3,>=1.21.1 in /usr/local/lib/python3.12/dist-packages (from requests->flask-ngrok) (2.5.0)\n",
            "Requirement already satisfied: certifi>=2017.4.17 in /usr/local/lib/python3.12/dist-packages (from requests->flask-ngrok) (2025.8.3)\n",
            "Requirement already satisfied: markdown>=2.6.8 in /usr/local/lib/python3.12/dist-packages (from tensorboard~=2.19.0->tensorflow) (3.8.2)\n",
            "Requirement already satisfied: tensorboard-data-server<0.8.0,>=0.7.0 in /usr/local/lib/python3.12/dist-packages (from tensorboard~=2.19.0->tensorflow) (0.7.2)\n",
            "Requirement already satisfied: markdown-it-py>=2.2.0 in /usr/local/lib/python3.12/dist-packages (from rich->keras>=3.5.0->tensorflow) (4.0.0)\n",
            "Requirement already satisfied: pygments<3.0.0,>=2.13.0 in /usr/local/lib/python3.12/dist-packages (from rich->keras>=3.5.0->tensorflow) (2.19.2)\n",
            "Requirement already satisfied: mdurl~=0.1 in /usr/local/lib/python3.12/dist-packages (from markdown-it-py>=2.2.0->rich->keras>=3.5.0->tensorflow) (0.1.2)\n"
          ]
        },
        {
          "name": "stderr",
          "output_type": "stream",
          "text": [
            "/usr/local/lib/python3.12/dist-packages/keras/src/layers/convolutional/base_conv.py:113: UserWarning: Do not pass an `input_shape`/`input_dim` argument to a layer. When using Sequential models, prefer using an `Input(shape)` object as the first layer in the model instead.\n",
            "  super().__init__(activity_regularizer=activity_regularizer, **kwargs)\n"
          ]
        },
        {
          "name": "stdout",
          "output_type": "stream",
          "text": [
            "\u001b[1m1875/1875\u001b[0m \u001b[32m━━━━━━━━━━━━━━━━━━━━\u001b[0m\u001b[37m\u001b[0m \u001b[1m32s\u001b[0m 16ms/step - accuracy: 0.8113 - loss: 0.5326 - val_accuracy: 0.8878 - val_loss: 0.3147\n",
            " * Serving Flask app '__main__'\n",
            " * Debug mode: off\n"
          ]
        },
        {
          "name": "stderr",
          "output_type": "stream",
          "text": [
            "INFO:werkzeug:\u001b[31m\u001b[1mWARNING: This is a development server. Do not use it in a production deployment. Use a production WSGI server instead.\u001b[0m\n",
            " * Running on http://127.0.0.1:5000\n",
            "INFO:werkzeug:\u001b[33mPress CTRL+C to quit\u001b[0m\n",
            "Exception in thread Thread-35:\n",
            "Traceback (most recent call last):\n",
            "  File \"/usr/local/lib/python3.12/dist-packages/urllib3/connection.py\", line 198, in _new_conn\n",
            "    sock = connection.create_connection(\n",
            "           ^^^^^^^^^^^^^^^^^^^^^^^^^^^^^\n",
            "  File \"/usr/local/lib/python3.12/dist-packages/urllib3/util/connection.py\", line 85, in create_connection\n",
            "    raise err\n",
            "  File \"/usr/local/lib/python3.12/dist-packages/urllib3/util/connection.py\", line 73, in create_connection\n",
            "    sock.connect(sa)\n",
            "ConnectionRefusedError: [Errno 111] Connection refused\n",
            "\n",
            "The above exception was the direct cause of the following exception:\n",
            "\n",
            "Traceback (most recent call last):\n",
            "  File \"/usr/local/lib/python3.12/dist-packages/urllib3/connectionpool.py\", line 787, in urlopen\n",
            "    response = self._make_request(\n",
            "               ^^^^^^^^^^^^^^^^^^^\n",
            "  File \"/usr/local/lib/python3.12/dist-packages/urllib3/connectionpool.py\", line 493, in _make_request\n",
            "    conn.request(\n",
            "  File \"/usr/local/lib/python3.12/dist-packages/urllib3/connection.py\", line 494, in request\n",
            "    self.endheaders()\n",
            "  File \"/usr/lib/python3.12/http/client.py\", line 1333, in endheaders\n",
            "    self._send_output(message_body, encode_chunked=encode_chunked)\n",
            "  File \"/usr/lib/python3.12/http/client.py\", line 1093, in _send_output\n",
            "    self.send(msg)\n",
            "  File \"/usr/lib/python3.12/http/client.py\", line 1037, in send\n",
            "    self.connect()\n",
            "  File \"/usr/local/lib/python3.12/dist-packages/urllib3/connection.py\", line 325, in connect\n",
            "    self.sock = self._new_conn()\n",
            "                ^^^^^^^^^^^^^^^^\n",
            "  File \"/usr/local/lib/python3.12/dist-packages/urllib3/connection.py\", line 213, in _new_conn\n",
            "    raise NewConnectionError(\n",
            "urllib3.exceptions.NewConnectionError: <urllib3.connection.HTTPConnection object at 0x7c4aba2c1be0>: Failed to establish a new connection: [Errno 111] Connection refused\n",
            "\n",
            "The above exception was the direct cause of the following exception:\n",
            "\n",
            "Traceback (most recent call last):\n",
            "  File \"/usr/local/lib/python3.12/dist-packages/requests/adapters.py\", line 667, in send\n",
            "    resp = conn.urlopen(\n",
            "           ^^^^^^^^^^^^^\n",
            "  File \"/usr/local/lib/python3.12/dist-packages/urllib3/connectionpool.py\", line 841, in urlopen\n",
            "    retries = retries.increment(\n",
            "              ^^^^^^^^^^^^^^^^^^\n",
            "  File \"/usr/local/lib/python3.12/dist-packages/urllib3/util/retry.py\", line 519, in increment\n",
            "    raise MaxRetryError(_pool, url, reason) from reason  # type: ignore[arg-type]\n",
            "    ^^^^^^^^^^^^^^^^^^^^^^^^^^^^^^^^^^^^^^^^^^^^^^^^^^^\n",
            "urllib3.exceptions.MaxRetryError: HTTPConnectionPool(host='localhost', port=4040): Max retries exceeded with url: /api/tunnels (Caused by NewConnectionError('<urllib3.connection.HTTPConnection object at 0x7c4aba2c1be0>: Failed to establish a new connection: [Errno 111] Connection refused'))\n",
            "\n",
            "During handling of the above exception, another exception occurred:\n",
            "\n",
            "Traceback (most recent call last):\n",
            "  File \"/usr/lib/python3.12/threading.py\", line 1075, in _bootstrap_inner\n",
            "    self.run()\n",
            "  File \"/usr/lib/python3.12/threading.py\", line 1433, in run\n",
            "    self.function(*self.args, **self.kwargs)\n",
            "  File \"/usr/local/lib/python3.12/dist-packages/flask_ngrok.py\", line 70, in start_ngrok\n",
            "    ngrok_address = _run_ngrok()\n",
            "                    ^^^^^^^^^^^^\n",
            "  File \"/usr/local/lib/python3.12/dist-packages/flask_ngrok.py\", line 35, in _run_ngrok\n",
            "    tunnel_url = requests.get(localhost_url).text  # Get the tunnel information\n",
            "                 ^^^^^^^^^^^^^^^^^^^^^^^^^^^\n",
            "  File \"/usr/local/lib/python3.12/dist-packages/requests/api.py\", line 73, in get\n",
            "    return request(\"get\", url, params=params, **kwargs)\n",
            "           ^^^^^^^^^^^^^^^^^^^^^^^^^^^^^^^^^^^^^^^^^^^^\n",
            "  File \"/usr/local/lib/python3.12/dist-packages/requests/api.py\", line 59, in request\n",
            "    return session.request(method=method, url=url, **kwargs)\n",
            "           ^^^^^^^^^^^^^^^^^^^^^^^^^^^^^^^^^^^^^^^^^^^^^^^^^\n",
            "  File \"/usr/local/lib/python3.12/dist-packages/requests/sessions.py\", line 589, in request\n",
            "    resp = self.send(prep, **send_kwargs)\n",
            "           ^^^^^^^^^^^^^^^^^^^^^^^^^^^^^^\n",
            "  File \"/usr/local/lib/python3.12/dist-packages/requests/sessions.py\", line 703, in send\n",
            "    r = adapter.send(request, **kwargs)\n",
            "        ^^^^^^^^^^^^^^^^^^^^^^^^^^^^^^^\n",
            "  File \"/usr/local/lib/python3.12/dist-packages/requests/adapters.py\", line 700, in send\n",
            "    raise ConnectionError(e, request=request)\n",
            "requests.exceptions.ConnectionError: HTTPConnectionPool(host='localhost', port=4040): Max retries exceeded with url: /api/tunnels (Caused by NewConnectionError('<urllib3.connection.HTTPConnection object at 0x7c4aba2c1be0>: Failed to establish a new connection: [Errno 111] Connection refused'))\n"
          ]
        }
      ],
      "source": [
        "# Install dependencies\n",
        "!pip install flask flask-ngrok tensorflow pillow\n",
        "\n",
        "# Flask app + ngrok + Fashion-MNIST model\n",
        "import numpy as np\n",
        "from flask import Flask, render_template, request\n",
        "from flask_ngrok import run_with_ngrok\n",
        "from tensorflow.keras.datasets import fashion_mnist\n",
        "from tensorflow.keras.models import Sequential\n",
        "from tensorflow.keras.layers import Conv2D, MaxPooling2D, Flatten, Dense\n",
        "from tensorflow.keras.utils import to_categorical\n",
        "from tensorflow.keras.preprocessing import image\n",
        "import os\n",
        "\n",
        "# ✅ Train a small Fashion-MNIST model\n",
        "(x_train, y_train), (x_test, y_test) = fashion_mnist.load_data()\n",
        "x_train = x_train.reshape(-1, 28, 28, 1).astype(\"float32\") / 255\n",
        "x_test = x_test.reshape(-1, 28, 28, 1).astype(\"float32\") / 255\n",
        "y_train = to_categorical(y_train, 10)\n",
        "y_test = to_categorical(y_test, 10)\n",
        "\n",
        "model = Sequential([\n",
        "    Conv2D(32, (3,3), activation=\"relu\", input_shape=(28,28,1)),\n",
        "    MaxPooling2D((2,2)),\n",
        "    Flatten(),\n",
        "    Dense(128, activation=\"relu\"),\n",
        "    Dense(10, activation=\"softmax\")\n",
        "])\n",
        "model.compile(optimizer=\"adam\", loss=\"categorical_crossentropy\", metrics=[\"accuracy\"])\n",
        "model.fit(x_train, y_train, epochs=1, validation_data=(x_test, y_test))  # quick 1 epoch for demo\n",
        "\n",
        "# ✅ Fashion-MNIST label names\n",
        "labels = [\"T-shirt\", \"Trouser\", \"Pullover\", \"Dress\", \"Coat\",\n",
        "          \"Sandal\", \"Shirt\", \"Sneaker\", \"Bag\", \"Ankle boot\"]\n",
        "\n",
        "# ✅ Flask app\n",
        "app = Flask(__name__)\n",
        "run_with_ngrok(app)\n",
        "\n",
        "@app.route(\"/\")\n",
        "def home():\n",
        "    return \"\"\"\n",
        "    <h1>🚀 Flask + Fashion-MNIST</h1>\n",
        "    <form action=\"/predict\" method=\"post\" enctype=\"multipart/form-data\">\n",
        "        <h3>🧠 Predict Clothing Item</h3>\n",
        "        <input type=\"file\" name=\"file\" />\n",
        "        <input type=\"submit\" value=\"Predict\" />\n",
        "    </form>\n",
        "    \"\"\"\n",
        "\n",
        "@app.route(\"/predict\", methods=[\"POST\"])\n",
        "def predict():\n",
        "    if \"file\" not in request.files:\n",
        "        return \"⚠️ No file uploaded\"\n",
        "\n",
        "    file = request.files[\"file\"]\n",
        "    filepath = os.path.join(\"/content\", file.filename)\n",
        "    file.save(filepath)\n",
        "\n",
        "    # Preprocess uploaded image\n",
        "    img = image.load_img(filepath, target_size=(28,28), color_mode=\"grayscale\")\n",
        "    img_array = image.img_to_array(img).reshape(1,28,28,1) / 255.0\n",
        "\n",
        "    # Model prediction\n",
        "    pred = model.predict(img_array)\n",
        "    class_idx = np.argmax(pred)\n",
        "    class_name = labels[class_idx]\n",
        "\n",
        "    return f\"✅ Predicted: <b>{class_name}</b> ({pred[0][class_idx]*100:.2f}% confidence)\"\n",
        "\n",
        "if __name__ == \"__main__\":\n",
        "    app.run()\n"
      ]
    },
    {
      "cell_type": "code",
      "source": [
        "def evaluate_model(clf, X_tr, y_tr, X_te, y_te, model_name):\n",
        "    y_proba = None\n",
        "    if hasattr(clf, \"predict_proba\"):\n",
        "        y_proba = clf.predict_proba(X_te)\n",
        "    elif hasattr(clf, \"decision_function\"):\n",
        "        # Convert decision scores to probabilities via softmax-like normalization per class\n",
        "        # Note: not a calibrated probability; acceptable for a rough AUC comparison if needed\n",
        "        scores = clf.decision_function(X_te)\n",
        "        # If binary shape, convert to two-column\n",
        "        if scores.ndim == 1:\n",
        "            scores = np.vstack([-scores, scores]).T\n",
        "        # Min-max per row to 0..1\n",
        "        s_min = scores.min(axis=1, keepdims=True)\n",
        "        s_max = scores.max(axis=1, keepdims=True)\n",
        "        denom = np.where((s_max - s_min)==0, 1, (s_max - s_min))\n",
        "        y_proba = (scores - s_min) / denom\n",
        "\n",
        "    y_pred = clf.predict(X_te)\n",
        "\n",
        "    acc = accuracy_score(y_te, y_pred)\n",
        "    prec_macro = precision_score(y_te, y_pred, average='macro', zero_division=0)\n",
        "\n",
        "    auc_ovr = None\n",
        "    if y_proba is not None:\n",
        "        # One-vs-Rest multiclass AUC with macro averaging\n",
        "        y_true_bin = keras.utils.to_categorical(y_te, num_classes=num_classes)\n",
        "        try:\n",
        "            auc_ovr = roc_auc_score(y_true_bin, y_proba, average='macro', multi_class='ovr')\n",
        "        except Exception:\n",
        "            auc_ovr = None\n",
        "\n",
        "    print(f\"{model_name} — Accuracy: {acc:.4f} | Macro-Precision: {prec_macro:.4f} | OvR AUC: {auc_ovr if auc_ovr is not None else 'n/a'}\")\n",
        "    return {\"model\": model_name, \"acc\": acc, \"prec_macro\": prec_macro, \"auc_ovr\": auc_ovr}\n",
        "\n",
        "results = []"
      ],
      "metadata": {
        "id": "XyajSqaMwsxg"
      },
      "execution_count": 1,
      "outputs": []
    },
    {
      "cell_type": "code",
      "source": [
        "from tensorflow.keras.datasets import fashion_mnist\n",
        "\n",
        "# 1. Load Fashion MNIST data\n",
        "(X_train, y_train), (X_test, y_test) = fashion_mnist.load_data()\n",
        "\n",
        "print(\"Train set shape:\", X_train.shape, y_train.shape)\n",
        "print(\"Test set shape:\", X_test.shape, y_test.shape)\n",
        "\n",
        "# 2. Flatten images (28x28 → 784 features) for models like Logistic Regression / SVM\n",
        "X_train_flat = X_train.reshape(X_train.shape[0], -1)  # (60000, 784)\n",
        "X_test_flat = X_test.reshape(X_test.shape[0], -1)    # (10000, 784)\n"
      ],
      "metadata": {
        "colab": {
          "base_uri": "https://localhost:8080/"
        },
        "id": "1aH4G53-xgXq",
        "outputId": "a08342aa-cab2-4e94-8119-111b973b94b6"
      },
      "execution_count": 4,
      "outputs": [
        {
          "output_type": "stream",
          "name": "stdout",
          "text": [
            "Downloading data from https://storage.googleapis.com/tensorflow/tf-keras-datasets/train-labels-idx1-ubyte.gz\n",
            "\u001b[1m29515/29515\u001b[0m \u001b[32m━━━━━━━━━━━━━━━━━━━━\u001b[0m\u001b[37m\u001b[0m \u001b[1m0s\u001b[0m 0us/step\n",
            "Downloading data from https://storage.googleapis.com/tensorflow/tf-keras-datasets/train-images-idx3-ubyte.gz\n",
            "\u001b[1m26421880/26421880\u001b[0m \u001b[32m━━━━━━━━━━━━━━━━━━━━\u001b[0m\u001b[37m\u001b[0m \u001b[1m0s\u001b[0m 0us/step\n",
            "Downloading data from https://storage.googleapis.com/tensorflow/tf-keras-datasets/t10k-labels-idx1-ubyte.gz\n",
            "\u001b[1m5148/5148\u001b[0m \u001b[32m━━━━━━━━━━━━━━━━━━━━\u001b[0m\u001b[37m\u001b[0m \u001b[1m0s\u001b[0m 0us/step\n",
            "Downloading data from https://storage.googleapis.com/tensorflow/tf-keras-datasets/t10k-images-idx3-ubyte.gz\n",
            "\u001b[1m4422102/4422102\u001b[0m \u001b[32m━━━━━━━━━━━━━━━━━━━━\u001b[0m\u001b[37m\u001b[0m \u001b[1m0s\u001b[0m 0us/step\n",
            "Train set shape: (60000, 28, 28) (60000,)\n",
            "Test set shape: (10000, 28, 28) (10000,)\n"
          ]
        }
      ]
    },
    {
      "cell_type": "code",
      "source": [
        "# Use a smaller subset for grid search to speed up tuning\n",
        "from sklearn.model_selection import train_test_split\n",
        "from sklearn.preprocessing import StandardScaler\n",
        "from sklearn.linear_model import LogisticRegression\n",
        "from sklearn.pipeline import Pipeline\n",
        "from sklearn.model_selection import GridSearchCV, StratifiedKFold\n",
        "from sklearn.metrics import accuracy_score, precision_score, roc_auc_score\n",
        "\n",
        "# Flatten the data for use with Logistic Regression\n",
        "X_train_flat = X_train.reshape(X_train.shape[0], -1)\n",
        "X_test_flat = X_test.reshape(X_test.shape[0], -1)\n",
        "\n",
        "X_train_sub, _, y_train_sub, _ = train_test_split(X_train_flat, y_train, train_size=8000, stratify=y_train, random_state=42)\n",
        "pipe_lr = Pipeline([\n",
        "    (\"scaler\", StandardScaler(with_mean=False)),  # with_mean=False safer for sparse-like; here dense but fine\n",
        "    (\"clf\", LogisticRegression(max_iter=200, solver='saga', tol=1e-3, n_jobs=-1))\n",
        "])\n",
        "\n",
        "param_lr = {\n",
        "    \"clf__C\": [1.0, 0.5, 2.0]\n",
        "}\n",
        "\n",
        "cv = StratifiedKFold(n_splits=2, shuffle=True, random_state=42)\n",
        "grid_lr = GridSearchCV(pipe_lr, param_lr, cv=cv, scoring='accuracy', n_jobs=-1, verbose=2)\n",
        "grid_lr.fit(X_train_sub, y_train_sub)\n",
        "best_lr = Pipeline([\n",
        "    (\"scaler\", StandardScaler(with_mean=False)),\n",
        "    (\"clf\", LogisticRegression(max_iter=200, solver='saga', tol=1e-3, n_jobs=-1, C=grid_lr.best_params_[\"clf__C\"]))\n",
        "])\n",
        "\n",
        "print(\"training full dataset for Logistic Regression\")\n",
        "best_lr.fit(X_train_flat, y_train)\n",
        "print(\"LR best params:\", grid_lr.best_params_)\n",
        "\n",
        "# Assuming num_classes is defined elsewhere, otherwise define it here\n",
        "num_classes = len(np.unique(y_train))\n",
        "\n",
        "res_lr = evaluate_model(best_lr, X_train_flat, y_train, X_test_flat, y_test, \"LogisticRegression\")\n",
        "results.append(res_lr)"
      ],
      "metadata": {
        "colab": {
          "base_uri": "https://localhost:8080/"
        },
        "id": "fqfEAntuwvvA",
        "outputId": "8d9305e5-a097-4f44-844d-23a4a7ff5f57"
      },
      "execution_count": null,
      "outputs": [
        {
          "output_type": "stream",
          "name": "stdout",
          "text": [
            "Fitting 2 folds for each of 3 candidates, totalling 6 fits\n"
          ]
        },
        {
          "output_type": "stream",
          "name": "stderr",
          "text": [
            "/usr/local/lib/python3.12/dist-packages/sklearn/linear_model/_sag.py:348: ConvergenceWarning: The max_iter was reached which means the coef_ did not converge\n",
            "  warnings.warn(\n"
          ]
        },
        {
          "output_type": "stream",
          "name": "stdout",
          "text": [
            "training full dataset for Logistic Regression\n"
          ]
        }
      ]
    }
  ],
  "metadata": {
    "colab": {
      "provenance": []
    },
    "kernelspec": {
      "display_name": "Python 3",
      "name": "python3"
    },
    "language_info": {
      "name": "python"
    }
  },
  "nbformat": 4,
  "nbformat_minor": 0
}